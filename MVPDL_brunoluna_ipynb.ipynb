{
  "nbformat": 4,
  "nbformat_minor": 0,
  "metadata": {
    "colab": {
      "provenance": [],
      "include_colab_link": true
    },
    "kernelspec": {
      "name": "python3",
      "display_name": "Python 3"
    },
    "language_info": {
      "name": "python"
    },
    "accelerator": "GPU",
    "gpuClass": "standard"
  },
  "cells": [
    {
      "cell_type": "markdown",
      "metadata": {
        "id": "view-in-github",
        "colab_type": "text"
      },
      "source": [
        "<a href=\"https://colab.research.google.com/github/brunolunarj/Sprint2---ML/blob/main/MVPDL_brunoluna_ipynb.ipynb\" target=\"_parent\"><img src=\"https://colab.research.google.com/assets/colab-badge.svg\" alt=\"Open In Colab\"/></a>"
      ]
    },
    {
      "cell_type": "markdown",
      "metadata": {
        "id": "LApLeoHb7Knw"
      },
      "source": [
        "# **MVP PUCRIO - Sprint 2 - Deep Learning**\n",
        "\n",
        "\n",
        "---\n",
        "\n"
      ]
    },
    {
      "cell_type": "markdown",
      "metadata": {
        "id": "Suza2iC8dQeh"
      },
      "source": [
        "**Por Bruno de Amorim Luna**"
      ]
    },
    {
      "cell_type": "markdown",
      "metadata": {
        "id": "_-5DmxCOih5k"
      },
      "source": [
        "## 1 - Definição do Problema\n",
        "\n",
        "\n",
        "\n",
        "---\n",
        "\n",
        "\n"
      ]
    },
    {
      "cell_type": "markdown",
      "source": [
        "Treinaremos uma rede neural afim de dizer qual a pessoa que está na foto.\n",
        "A foto será baixada através sites na web."
      ],
      "metadata": {
        "id": "JwreLfnY7mFn"
      }
    },
    {
      "cell_type": "code",
      "execution_count": 9,
      "metadata": {
        "colab": {
          "base_uri": "https://localhost:8080/"
        },
        "id": "UQtyHwrl5Xe_",
        "outputId": "f663c086-1999-47cf-901c-871c962cb90a"
      },
      "outputs": [
        {
          "output_type": "stream",
          "name": "stdout",
          "text": [
            "mkdir: cannot create directory ‘known’: File exists\n",
            "--2023-07-24 04:52:45--  https://pt.wikipedia.org/wiki/Ficheiro:Juninhoafram16.jpg\n",
            "Resolving pt.wikipedia.org (pt.wikipedia.org)... 208.80.154.224, 2620:0:861:ed1a::1\n",
            "Connecting to pt.wikipedia.org (pt.wikipedia.org)|208.80.154.224|:443... connected.\n",
            "HTTP request sent, awaiting response... 200 OK\n",
            "Length: 65689 (64K) [text/html]\n",
            "Saving to: ‘known/juninho1.jpg’\n",
            "\n",
            "known/juninho1.jpg  100%[===================>]  64.15K  --.-KB/s    in 0.02s   \n",
            "\n",
            "2023-07-24 04:52:45 (3.04 MB/s) - ‘known/juninho1.jpg’ saved [65689/65689]\n",
            "\n",
            "--2023-07-24 04:52:45--  https://pt.wikipedia.org/wiki/Ficheiro:Juninho_Afram_G3.jpg\n",
            "Resolving pt.wikipedia.org (pt.wikipedia.org)... 208.80.154.224, 2620:0:861:ed1a::1\n",
            "Connecting to pt.wikipedia.org (pt.wikipedia.org)|208.80.154.224|:443... connected.\n",
            "HTTP request sent, awaiting response... 200 OK\n",
            "Length: 79820 (78K) [text/html]\n",
            "Saving to: ‘known/juninho2.jpg’\n",
            "\n",
            "known/juninho2.jpg  100%[===================>]  77.95K  --.-KB/s    in 0.02s   \n",
            "\n",
            "2023-07-24 04:52:45 (3.20 MB/s) - ‘known/juninho2.jpg’ saved [79820/79820]\n",
            "\n",
            "--2023-07-24 04:52:45--  https://tagima.com.br/uploads/artistas/5703ea06f1ab3.jpg\n",
            "Resolving tagima.com.br (tagima.com.br)... 191.232.190.117\n",
            "Connecting to tagima.com.br (tagima.com.br)|191.232.190.117|:443... connected.\n",
            "HTTP request sent, awaiting response... 200 OK\n",
            "Length: 213947 (209K) [image/jpeg]\n",
            "Saving to: ‘known/juninho3.jpg’\n",
            "\n",
            "known/juninho3.jpg  100%[===================>] 208.93K   500KB/s    in 0.4s    \n",
            "\n",
            "2023-07-24 04:52:46 (500 KB/s) - ‘known/juninho3.jpg’ saved [213947/213947]\n",
            "\n",
            "--2023-07-24 04:52:46--  https://tagima.com.br/uploads/artistas/5703ea0736bfa.jpg\n",
            "Resolving tagima.com.br (tagima.com.br)... 191.232.190.117\n",
            "Connecting to tagima.com.br (tagima.com.br)|191.232.190.117|:443... connected.\n",
            "HTTP request sent, awaiting response... 200 OK\n",
            "Length: 129133 (126K) [image/jpeg]\n",
            "Saving to: ‘known/juninho4.jpg’\n",
            "\n",
            "known/juninho4.jpg  100%[===================>] 126.11K   334KB/s    in 0.4s    \n",
            "\n",
            "2023-07-24 04:52:47 (334 KB/s) - ‘known/juninho4.jpg’ saved [129133/129133]\n",
            "\n",
            "--2023-07-24 04:52:47--  https://a-static.mlcdn.com.br/800x560/guitarra-eletrica-tagima-signature-series-ja-3-juninho-afram/wdtechnologies/guitarraja3-brown/01f30d600e17d7fde413f2c9925926e1.jpeg\n",
            "Resolving a-static.mlcdn.com.br (a-static.mlcdn.com.br)... 179.191.177.67\n",
            "Connecting to a-static.mlcdn.com.br (a-static.mlcdn.com.br)|179.191.177.67|:443... connected.\n",
            "HTTP request sent, awaiting response... 200 OK\n",
            "Length: 43066 (42K) [image/jpeg]\n",
            "Saving to: ‘known/juninho5.jpg’\n",
            "\n",
            "known/juninho5.jpg  100%[===================>]  42.06K  --.-KB/s    in 0s      \n",
            "\n",
            "2023-07-24 04:52:48 (178 MB/s) - ‘known/juninho5.jpg’ saved [43066/43066]\n",
            "\n",
            "--2023-07-24 04:52:48--  http://2.bp.blogspot.com/-9md60FurEH4/UZUoqbBombI/AAAAAAAAbXA/lB9WgCD9ZVg/s1600/Juninho+Afram.jpg\n",
            "Resolving 2.bp.blogspot.com (2.bp.blogspot.com)... 74.125.26.132, 2607:f8b0:400c:c04::84\n",
            "Connecting to 2.bp.blogspot.com (2.bp.blogspot.com)|74.125.26.132|:80... connected.\n",
            "HTTP request sent, awaiting response... 200 OK\n",
            "Length: 100353 (98K) [image/jpeg]\n",
            "Saving to: ‘known/juninho6.jpg’\n",
            "\n",
            "known/juninho6.jpg  100%[===================>]  98.00K  --.-KB/s    in 0s      \n",
            "\n",
            "2023-07-24 04:52:48 (238 MB/s) - ‘known/juninho6.jpg’ saved [100353/100353]\n",
            "\n",
            "--2023-07-24 04:52:48--  http://3.bp.blogspot.com/_FTObHlFrfNA/TQomo_p32fI/AAAAAAAAACU/VNpXTVO8ewM/s1600/junin.jpg\n",
            "Resolving 3.bp.blogspot.com (3.bp.blogspot.com)... 74.125.26.132, 2607:f8b0:400c:c04::84\n",
            "Connecting to 3.bp.blogspot.com (3.bp.blogspot.com)|74.125.26.132|:80... connected.\n",
            "HTTP request sent, awaiting response... 200 OK\n",
            "Length: 10899 (11K) [image/jpeg]\n",
            "Saving to: ‘known/juninho7.jpg’\n",
            "\n",
            "known/juninho7.jpg  100%[===================>]  10.64K  --.-KB/s    in 0s      \n",
            "\n",
            "2023-07-24 04:52:48 (184 MB/s) - ‘known/juninho7.jpg’ saved [10899/10899]\n",
            "\n",
            "/bin/bash: -c: line 1: syntax error near unexpected token `('\n",
            "/bin/bash: -c: line 1: `wget http://1.bp.blogspot.com/_geMf3Kz7cg0/TLCr1JT-5UI/AAAAAAAAAK0/zX1ZdjWO4_c/s1600/juninho+(1).jpg -O known/juninho8.jpg'\n",
            "--2023-07-24 04:52:48--  https://conteudo.imguol.com.br/c/esporte/12/2023/07/01/gabigol-comemora-gol-do-flamengo-sobre-o-fortaleza-em-confronto-do-campeonato-brasileiro-1688249779410_v2_450x450.jpg\n",
            "Resolving conteudo.imguol.com.br (conteudo.imguol.com.br)... 23.219.154.139, 23.219.154.134, 2600:9000:2353:9c00:10:3798:4a80:93a1, ...\n",
            "Connecting to conteudo.imguol.com.br (conteudo.imguol.com.br)|23.219.154.139|:443... connected.\n",
            "HTTP request sent, awaiting response... 200 OK\n",
            "Length: 31482 (31K) [image/jpeg]\n",
            "Saving to: ‘known/gabi1.jpg’\n",
            "\n",
            "known/gabi1.jpg     100%[===================>]  30.74K  --.-KB/s    in 0.02s   \n",
            "\n",
            "2023-07-24 04:52:49 (1.98 MB/s) - ‘known/gabi1.jpg’ saved [31482/31482]\n",
            "\n",
            "--2023-07-24 04:52:49--  https://lncimg.lance.com.br/cdn-cgi/image/width=1920,quality=75,format=webp/uploads/2023/02/07/63e2cedc3687e.jpeg\n",
            "Resolving lncimg.lance.com.br (lncimg.lance.com.br)... 104.18.14.60, 104.18.15.60, 2606:4700::6812:e3c, ...\n",
            "Connecting to lncimg.lance.com.br (lncimg.lance.com.br)|104.18.14.60|:443... connected.\n",
            "HTTP request sent, awaiting response... 200 OK\n",
            "Length: 137790 (135K) [image/jpeg]\n",
            "Saving to: ‘known/gabi2.jpg’\n",
            "\n",
            "known/gabi2.jpg     100%[===================>] 134.56K  --.-KB/s    in 0.02s   \n",
            "\n",
            "2023-07-24 04:52:49 (5.88 MB/s) - ‘known/gabi2.jpg’ saved [137790/137790]\n",
            "\n",
            "--2023-07-24 04:52:49--  https://stcotvfoco.com.br/2023/07/Gabigol-capa.jpg\n",
            "Resolving stcotvfoco.com.br (stcotvfoco.com.br)... 172.67.69.185, 104.26.14.176, 104.26.15.176, ...\n",
            "Connecting to stcotvfoco.com.br (stcotvfoco.com.br)|172.67.69.185|:443... connected.\n",
            "HTTP request sent, awaiting response... 200 OK\n",
            "Length: 94330 (92K) [image/jpeg]\n",
            "Saving to: ‘known/gabi3.jpg’\n",
            "\n",
            "known/gabi3.jpg     100%[===================>]  92.12K  --.-KB/s    in 0.01s   \n",
            "\n",
            "2023-07-24 04:52:49 (6.32 MB/s) - ‘known/gabi3.jpg’ saved [94330/94330]\n",
            "\n",
            "--2023-07-24 04:52:49--  https://colunadofla.com/wp-content/uploads/2023/07/gabigol-athletico-pr-x-flamengo-copa-do-brasil-1.png\n",
            "Resolving colunadofla.com (colunadofla.com)... 190.89.238.77, 190.89.239.39\n",
            "Connecting to colunadofla.com (colunadofla.com)|190.89.238.77|:443... connected.\n",
            "HTTP request sent, awaiting response... 200 OK\n",
            "Length: 428442 (418K) [image/png]\n",
            "Saving to: ‘known/gabi4.jpg’\n",
            "\n",
            "known/gabi4.jpg     100%[===================>] 418.40K   822KB/s    in 0.5s    \n",
            "\n",
            "2023-07-24 04:52:51 (822 KB/s) - ‘known/gabi4.jpg’ saved [428442/428442]\n",
            "\n",
            "/bin/bash: line 1: -O: command not found\n",
            "--2023-07-24 04:52:51--  https://ds-images.bolavip.com/news/image?src=https%3A%2F%2Fimages.bolavip.com%2Fwebp%2Fbr%2Ffull%2FBBR_20230722_BBR_69166_AGIF23061123191158-scaled-e1690058413355.webp\n",
            "Resolving ds-images.bolavip.com (ds-images.bolavip.com)... 99.84.252.102, 99.84.252.19, 99.84.252.9, ...\n",
            "Connecting to ds-images.bolavip.com (ds-images.bolavip.com)|99.84.252.102|:443... connected.\n",
            "HTTP request sent, awaiting response... 200 OK\n",
            "Length: unspecified [image/webp]\n",
            "Saving to: ‘image?src=https:%2F%2Fimages.bolavip.com%2Fwebp%2Fbr%2Ffull%2FBBR_20230722_BBR_69166_AGIF23061123191158-scaled-e1690058413355.webp.2’\n",
            "\n",
            "image?src=https:%2F     [ <=>                ]   2.53K  --.-KB/s    in 0s      \n",
            "\n",
            "2023-07-24 04:52:51 (58.7 MB/s) - ‘image?src=https:%2F%2Fimages.bolavip.com%2Fwebp%2Fbr%2Ffull%2FBBR_20230722_BBR_69166_AGIF23061123191158-scaled-e1690058413355.webp.2’ saved [2590]\n",
            "\n",
            "--2023-07-24 04:52:51--  https://static-wp-tor15-prd.torcedores.com/wp-content/uploads/2022/04/flamengo-gabigol-312x208.jpg\n",
            "Resolving static-wp-tor15-prd.torcedores.com (static-wp-tor15-prd.torcedores.com)... 13.35.116.106, 13.35.116.100, 13.35.116.18, ...\n",
            "Connecting to static-wp-tor15-prd.torcedores.com (static-wp-tor15-prd.torcedores.com)|13.35.116.106|:443... connected.\n",
            "HTTP request sent, awaiting response... 200 OK\n",
            "Length: 13361 (13K) [image/jpeg]\n",
            "Saving to: ‘known/gabi6.jpg’\n",
            "\n",
            "known/gabi6.jpg     100%[===================>]  13.05K  --.-KB/s    in 0.001s  \n",
            "\n",
            "2023-07-24 04:52:51 (9.91 MB/s) - ‘known/gabi6.jpg’ saved [13361/13361]\n",
            "\n",
            "/bin/bash: line 1: -O: command not found\n",
            "--2023-07-24 04:52:51--  https://br.bolavip.com/_next/image?url=https%3A%2F%2Fbolavip.com%2F__export%2F1665147986923%2Fsites%2Fbolavip%2Fimg%2F2022%2F10%2F07%2Fagif22042319282463_x1x.jpg_1546398727.jpg\n",
            "Resolving br.bolavip.com (br.bolavip.com)... 108.157.162.7, 108.157.162.86, 108.157.162.113, ...\n",
            "Connecting to br.bolavip.com (br.bolavip.com)|108.157.162.7|:443... connected.\n",
            "HTTP request sent, awaiting response... 400 Bad Request\n",
            "2023-07-24 04:52:51 ERROR 400: Bad Request.\n",
            "\n",
            "--2023-07-24 04:52:51--  https://www.ofutebolero.com.br/__export/1619490534450/sites/elfutboleromx/img/2021/04/26/2521_186.jpg_234047797.jpg\n",
            "Resolving www.ofutebolero.com.br (www.ofutebolero.com.br)... 18.67.0.38, 18.67.0.114, 18.67.0.96, ...\n",
            "Connecting to www.ofutebolero.com.br (www.ofutebolero.com.br)|18.67.0.38|:443... connected.\n",
            "HTTP request sent, awaiting response... 403 Forbidden\n",
            "2023-07-24 04:52:52 ERROR 403: Forbidden.\n",
            "\n",
            "--2023-07-24 04:52:52--  https://mengonews.com/wp-content/uploads/2020/10/gabigol-debochando-sorrindo-flamengo.jpg\n",
            "Resolving mengonews.com (mengonews.com)... 135.148.104.154\n",
            "Connecting to mengonews.com (mengonews.com)|135.148.104.154|:443... connected.\n",
            "HTTP request sent, awaiting response... 200 OK\n",
            "Length: 43251 (42K) [image/jpeg]\n",
            "Saving to: ‘known/gabi9.jpg’\n",
            "\n",
            "known/gabi9.jpg     100%[===================>]  42.24K  --.-KB/s    in 0.04s   \n",
            "\n",
            "2023-07-24 04:52:52 (1.07 MB/s) - ‘known/gabi9.jpg’ saved [43251/43251]\n",
            "\n",
            "--2023-07-24 04:52:52--  https://upload.wikimedia.org/wikipedia/commons/thumb/8/83/Bra-Cos_%281%29_%28cropped%29.jpg/230px-Bra-Cos_%281%29_%28cropped%29.jpg\n",
            "Resolving upload.wikimedia.org (upload.wikimedia.org)... 208.80.154.240, 2620:0:861:ed1a::2:b\n",
            "Connecting to upload.wikimedia.org (upload.wikimedia.org)|208.80.154.240|:443... connected.\n",
            "HTTP request sent, awaiting response... 200 OK\n",
            "Length: 22732 (22K) [image/jpeg]\n",
            "Saving to: ‘known/ney1.jpg’\n",
            "\n",
            "known/ney1.jpg      100%[===================>]  22.20K  --.-KB/s    in 0.01s   \n",
            "\n",
            "2023-07-24 04:52:52 (2.01 MB/s) - ‘known/ney1.jpg’ saved [22732/22732]\n",
            "\n",
            "--2023-07-24 04:52:52--  https://img.tribunahoje.com/yyfyNSUtNQIofEL2KVFZFF3ATAg=/840x520/smart/s3.tribunahoje.com/uploads/imagens/neymarjr-1.jpg\n",
            "Resolving img.tribunahoje.com (img.tribunahoje.com)... 104.21.67.97, 172.67.220.72, 2606:4700:3031::6815:4361, ...\n",
            "Connecting to img.tribunahoje.com (img.tribunahoje.com)|104.21.67.97|:443... connected.\n",
            "HTTP request sent, awaiting response... 200 OK\n",
            "Length: 52683 (51K) [image/jpeg]\n",
            "Saving to: ‘known/ney2.jpg’\n",
            "\n",
            "known/ney2.jpg      100%[===================>]  51.45K  --.-KB/s    in 0.01s   \n",
            "\n",
            "2023-07-24 04:52:52 (4.90 MB/s) - ‘known/ney2.jpg’ saved [52683/52683]\n",
            "\n",
            "--2023-07-24 04:52:52--  https://bebemamae.com/wp-content/webp-express/webp-images/uploads/2022/08/neymar-jr-ex-davi-lucca-visita-instituto-santos.jpg.webp\n",
            "Resolving bebemamae.com (bebemamae.com)... 172.66.42.208, 172.66.41.48, 2606:4700:3108::ac42:2930, ...\n",
            "Connecting to bebemamae.com (bebemamae.com)|172.66.42.208|:443... connected.\n",
            "HTTP request sent, awaiting response... 200 OK\n",
            "Length: 28956 (28K) [image/webp]\n",
            "Saving to: ‘known/ney3.jpg’\n",
            "\n",
            "known/ney3.jpg      100%[===================>]  28.28K  --.-KB/s    in 0.001s  \n",
            "\n",
            "2023-07-24 04:52:53 (25.5 MB/s) - ‘known/ney3.jpg’ saved [28956/28956]\n",
            "\n",
            "--2023-07-24 04:52:53--  https://media.fashionnetwork.com/cdn-cgi/image/fit=contain,width=1000,height=1000/m/15f7/2ef6/8e4f/cbbb/9a2b/c8df/daf0/a8c7/bb74/4cb0/4cb0.jpg\n",
            "Resolving media.fashionnetwork.com (media.fashionnetwork.com)... 172.67.5.75\n",
            "Connecting to media.fashionnetwork.com (media.fashionnetwork.com)|172.67.5.75|:443... connected.\n",
            "HTTP request sent, awaiting response... 200 OK\n",
            "Length: 65964 (64K) [image/jpeg]\n",
            "Saving to: ‘known/ney4.jpg’\n",
            "\n",
            "known/ney4.jpg      100%[===================>]  64.42K  --.-KB/s    in 0.01s   \n",
            "\n",
            "2023-07-24 04:52:53 (5.30 MB/s) - ‘known/ney4.jpg’ saved [65964/65964]\n",
            "\n",
            "--2023-07-24 04:52:53--  https://phantom-elmundo.unidadeditorial.es/613b513c9fb63242c04528309bd66734/crop/0x0/3072x2048/resize/473/f/webp/assets/multimedia/imagenes/2023/04/19/16818957333700.jpg\n",
            "Resolving phantom-elmundo.unidadeditorial.es (phantom-elmundo.unidadeditorial.es)... 18.64.174.29, 18.64.174.6, 18.64.174.90, ...\n",
            "Connecting to phantom-elmundo.unidadeditorial.es (phantom-elmundo.unidadeditorial.es)|18.64.174.29|:443... connected.\n",
            "HTTP request sent, awaiting response... 200 OK\n",
            "Length: 24946 (24K) [image/webp]\n",
            "Saving to: ‘known/ney5.jpg’\n",
            "\n",
            "known/ney5.jpg      100%[===================>]  24.36K  --.-KB/s    in 0.003s  \n",
            "\n",
            "2023-07-24 04:52:53 (8.26 MB/s) - ‘known/ney5.jpg’ saved [24946/24946]\n",
            "\n",
            "--2023-07-24 04:52:53--  https://www.estrelando.com.br/uploads/2023/07/01/neymarjr-nota-1688213588.jpg\n",
            "Resolving www.estrelando.com.br (www.estrelando.com.br)... 23.76.63.195\n",
            "Connecting to www.estrelando.com.br (www.estrelando.com.br)|23.76.63.195|:443... connected.\n",
            "HTTP request sent, awaiting response... 200 OK\n",
            "Length: 526345 (514K) [image/jpeg]\n",
            "Saving to: ‘known/ney6.jpg’\n",
            "\n",
            "known/ney6.jpg      100%[===================>] 514.01K  --.-KB/s    in 0.05s   \n",
            "\n",
            "2023-07-24 04:52:54 (9.41 MB/s) - ‘known/ney6.jpg’ saved [526345/526345]\n",
            "\n"
          ]
        }
      ],
      "source": [
        "!mkdir known\n",
        "!wget https://pt.wikipedia.org/wiki/Ficheiro:Juninhoafram16.jpg -O known/juninho1.jpg\n",
        "!wget https://pt.wikipedia.org/wiki/Ficheiro:Juninho_Afram_G3.jpg -O known/juninho2.jpg\n",
        "!wget https://tagima.com.br/uploads/artistas/5703ea06f1ab3.jpg -O known/juninho3.jpg\n",
        "!wget https://tagima.com.br/uploads/artistas/5703ea0736bfa.jpg -O known/juninho4.jpg\n",
        "!wget https://a-static.mlcdn.com.br/800x560/guitarra-eletrica-tagima-signature-series-ja-3-juninho-afram/wdtechnologies/guitarraja3-brown/01f30d600e17d7fde413f2c9925926e1.jpeg -O known/juninho5.jpg\n",
        "!wget http://2.bp.blogspot.com/-9md60FurEH4/UZUoqbBombI/AAAAAAAAbXA/lB9WgCD9ZVg/s1600/Juninho+Afram.jpg -O known/juninho6.jpg\n",
        "!wget http://3.bp.blogspot.com/_FTObHlFrfNA/TQomo_p32fI/AAAAAAAAACU/VNpXTVO8ewM/s1600/junin.jpg -O known/juninho7.jpg\n",
        "!wget http://1.bp.blogspot.com/_geMf3Kz7cg0/TLCr1JT-5UI/AAAAAAAAAK0/zX1ZdjWO4_c/s1600/juninho+(1).jpg -O known/juninho8.jpg\n",
        "!wget https://conteudo.imguol.com.br/c/esporte/12/2023/07/01/gabigol-comemora-gol-do-flamengo-sobre-o-fortaleza-em-confronto-do-campeonato-brasileiro-1688249779410_v2_450x450.jpg -O known/gabi1.jpg\n",
        "!wget https://lncimg.lance.com.br/cdn-cgi/image/width=1920,quality=75,format=webp/uploads/2023/02/07/63e2cedc3687e.jpeg -O known/gabi2.jpg\n",
        "!wget https://stcotvfoco.com.br/2023/07/Gabigol-capa.jpg -O known/gabi3.jpg\n",
        "!wget https://colunadofla.com/wp-content/uploads/2023/07/gabigol-athletico-pr-x-flamengo-copa-do-brasil-1.png -O known/gabi4.jpg\n",
        "!wget https://ds-images.bolavip.com/news/image?src=https%3A%2F%2Fimages.bolavip.com%2Fwebp%2Fbr%2Ffull%2FBBR_20230722_BBR_69166_AGIF23061123191158-scaled-e1690058413355.webp&width=714&height=535 -O known/gabi5.jpg\n",
        "!wget https://static-wp-tor15-prd.torcedores.com/wp-content/uploads/2022/04/flamengo-gabigol-312x208.jpg -O known/gabi6.jpg\n",
        "!wget https://br.bolavip.com/_next/image?url=https%3A%2F%2Fbolavip.com%2F__export%2F1665147986923%2Fsites%2Fbolavip%2Fimg%2F2022%2F10%2F07%2Fagif22042319282463_x1x.jpg_1546398727.jpg&w=1920&q=75 -O known/gabi7.jpg\n",
        "!wget https://www.ofutebolero.com.br/__export/1619490534450/sites/elfutboleromx/img/2021/04/26/2521_186.jpg_234047797.jpg -O known/gabi8.jpg\n",
        "!wget https://mengonews.com/wp-content/uploads/2020/10/gabigol-debochando-sorrindo-flamengo.jpg -O known/gabi9.jpg\n",
        "!wget https://upload.wikimedia.org/wikipedia/commons/thumb/8/83/Bra-Cos_%281%29_%28cropped%29.jpg/230px-Bra-Cos_%281%29_%28cropped%29.jpg -O known/ney1.jpg\n",
        "!wget https://img.tribunahoje.com/yyfyNSUtNQIofEL2KVFZFF3ATAg=/840x520/smart/s3.tribunahoje.com/uploads/imagens/neymarjr-1.jpg -O known/ney2.jpg\n",
        "!wget https://bebemamae.com/wp-content/webp-express/webp-images/uploads/2022/08/neymar-jr-ex-davi-lucca-visita-instituto-santos.jpg.webp -O known/ney3.jpg\n",
        "!wget https://media.fashionnetwork.com/cdn-cgi/image/fit=contain,width=1000,height=1000/m/15f7/2ef6/8e4f/cbbb/9a2b/c8df/daf0/a8c7/bb74/4cb0/4cb0.jpg -O known/ney4.jpg\n",
        "!wget https://phantom-elmundo.unidadeditorial.es/613b513c9fb63242c04528309bd66734/crop/0x0/3072x2048/resize/473/f/webp/assets/multimedia/imagenes/2023/04/19/16818957333700.jpg -O known/ney5.jpg\n",
        "!wget https://www.estrelando.com.br/uploads/2023/07/01/neymarjr-nota-1688213588.jpg -O known/ney6.jpg\n"
      ]
    },
    {
      "cell_type": "markdown",
      "source": [
        "Vamos também fazer o download de imagens sem anotação e setaremos como unknow. Este serão a base de testes.\n",
        "\n"
      ],
      "metadata": {
        "id": "h0VFm_SJGAP4"
      }
    },
    {
      "cell_type": "code",
      "source": [
        "!mkdir unknown\n",
        "\n",
        "!wget https://premierleaguebrasil.com.br/wp-content/uploads/2023/04/Neymar-Manchester-United-1024x576.jpg-O unknown/1.jpg\n",
        "!wget http://1.bp.blogspot.com/-4i-f3I7RWRE/TVgQna1ZN_I/AAAAAAAAAMw/IZtXNY862S8/s1600/juninho%2Be%2BSeizy.jpg -O unknown/2.jpg\n",
        "!wget https://scontent.fbsb30-1.fna.fbcdn.net/v/t1.6435-9/52861349_2757976744220246_4758455882839228416_n.jpg?_nc_cat=108&ccb=1-7&_nc_sid=9267fe&_nc_ohc=WKFT_A0eLFQAX_rRy9P&_nc_ht=scontent.fbsb30-1.fna&oh=00_AfAMh3MEt50ogihlK-E_LPDfF5henAxWO91NT21OF9UmOA&oe=64E55CAD -O unknown/3.jpg\n",
        "!wget https://dxprjxdb.tinifycdn.com/public/assets/img/postagens/post_41660.jpg -O unknown/4.jpg\n",
        "!wget https://iaftm.tmgrup.com.tr/40a4b6/829/469/0/24/800/477?u=https://iftm.tmgrup.com.tr/2023/02/17/transfer-haberi-neymer-psgden-ayriliyor-chelsea-ile-gorusmeler-basladi-1676653297745.jpeg -O unknown/5.jpg\n",
        "!wget https://noticiasdotimao.com.br/wp-content/uploads/2022/10/gabigol-750x430.jpg -O unknown/5.jpg\n",
        "!wget https://www.ofutebolero.com.br/__export/1686686003073/sites/elfutboleromx/img/2023/06/13/ney.jpg_1879290159.jpg -O unknown/5.jpg\n"
      ],
      "metadata": {
        "colab": {
          "base_uri": "https://localhost:8080/"
        },
        "id": "P5JPLY9NBhvp",
        "outputId": "d9d3b910-320f-4a84-8cbd-7714de5da9bd"
      },
      "execution_count": 10,
      "outputs": [
        {
          "output_type": "stream",
          "name": "stdout",
          "text": [
            "mkdir: cannot create directory ‘unknown’: File exists\n",
            "--2023-07-24 04:52:54--  https://premierleaguebrasil.com.br/wp-content/uploads/2023/04/Neymar-Manchester-United-1024x576.jpg-O\n",
            "Resolving premierleaguebrasil.com.br (premierleaguebrasil.com.br)... 104.18.6.122, 104.18.7.122, 2606:4700::6812:67a, ...\n",
            "Connecting to premierleaguebrasil.com.br (premierleaguebrasil.com.br)|104.18.6.122|:443... connected.\n",
            "HTTP request sent, awaiting response... 404 Not Found\n",
            "2023-07-24 04:52:55 ERROR 404: Not Found.\n",
            "\n",
            "--2023-07-24 04:52:55--  http://unknown/1.jpg\n",
            "Resolving unknown (unknown)... failed: Name or service not known.\n",
            "wget: unable to resolve host address ‘unknown’\n",
            "--2023-07-24 04:52:55--  http://1.bp.blogspot.com/-4i-f3I7RWRE/TVgQna1ZN_I/AAAAAAAAAMw/IZtXNY862S8/s1600/juninho%2Be%2BSeizy.jpg\n",
            "Resolving 1.bp.blogspot.com (1.bp.blogspot.com)... 74.125.26.132, 2607:f8b0:400c:c04::84\n",
            "Connecting to 1.bp.blogspot.com (1.bp.blogspot.com)|74.125.26.132|:80... connected.\n",
            "HTTP request sent, awaiting response... 200 OK\n",
            "Length: 44777 (44K) [image/jpeg]\n",
            "Saving to: ‘unknown/2.jpg’\n",
            "\n",
            "unknown/2.jpg       100%[===================>]  43.73K  --.-KB/s    in 0s      \n",
            "\n",
            "2023-07-24 04:52:55 (261 MB/s) - ‘unknown/2.jpg’ saved [44777/44777]\n",
            "\n",
            "/bin/bash: line 1: -O: command not found\n",
            "--2023-07-24 04:52:55--  https://scontent.fbsb30-1.fna.fbcdn.net/v/t1.6435-9/52861349_2757976744220246_4758455882839228416_n.jpg?_nc_cat=108\n",
            "Resolving scontent.fbsb30-1.fna.fbcdn.net (scontent.fbsb30-1.fna.fbcdn.net)... 179.127.255.212, 2804:10b4:e0:1:face:b00c:0:a7\n",
            "Connecting to scontent.fbsb30-1.fna.fbcdn.net (scontent.fbsb30-1.fna.fbcdn.net)|179.127.255.212|:443... connected.\n",
            "HTTP request sent, awaiting response... 403 Forbidden\n",
            "2023-07-24 04:52:56 ERROR 403: Forbidden.\n",
            "\n",
            "--2023-07-24 04:52:56--  https://dxprjxdb.tinifycdn.com/public/assets/img/postagens/post_41660.jpg\n",
            "Resolving dxprjxdb.tinifycdn.com (dxprjxdb.tinifycdn.com)... 13.32.87.65, 13.32.87.83, 13.32.87.48, ...\n",
            "Connecting to dxprjxdb.tinifycdn.com (dxprjxdb.tinifycdn.com)|13.32.87.65|:443... connected.\n",
            "HTTP request sent, awaiting response... 200 OK\n",
            "Length: 67770 (66K) [image/jpeg]\n",
            "Saving to: ‘unknown/4.jpg’\n",
            "\n",
            "unknown/4.jpg       100%[===================>]  66.18K  --.-KB/s    in 0.03s   \n",
            "\n",
            "2023-07-24 04:52:56 (2.01 MB/s) - ‘unknown/4.jpg’ saved [67770/67770]\n",
            "\n",
            "--2023-07-24 04:52:56--  https://iaftm.tmgrup.com.tr/40a4b6/829/469/0/24/800/477?u=https://iftm.tmgrup.com.tr/2023/02/17/transfer-haberi-neymer-psgden-ayriliyor-chelsea-ile-gorusmeler-basladi-1676653297745.jpeg\n",
            "Resolving iaftm.tmgrup.com.tr (iaftm.tmgrup.com.tr)... 51.222.241.61, 51.81.107.96, 135.148.122.134, ...\n",
            "Connecting to iaftm.tmgrup.com.tr (iaftm.tmgrup.com.tr)|51.222.241.61|:443... connected.\n",
            "HTTP request sent, awaiting response... 200 OK\n",
            "Length: 52591 (51K) [image/jpeg]\n",
            "Saving to: ‘unknown/5.jpg’\n",
            "\n",
            "unknown/5.jpg       100%[===================>]  51.36K  --.-KB/s    in 0.04s   \n",
            "\n",
            "2023-07-24 04:52:56 (1.42 MB/s) - ‘unknown/5.jpg’ saved [52591/52591]\n",
            "\n",
            "--2023-07-24 04:52:57--  https://noticiasdotimao.com.br/wp-content/uploads/2022/10/gabigol-750x430.jpg\n",
            "Resolving noticiasdotimao.com.br (noticiasdotimao.com.br)... 104.21.16.213, 172.67.215.242, 2606:4700:3033::ac43:d7f2, ...\n",
            "Connecting to noticiasdotimao.com.br (noticiasdotimao.com.br)|104.21.16.213|:443... connected.\n",
            "HTTP request sent, awaiting response... 200 OK\n",
            "Length: 39757 (39K) [image/jpeg]\n",
            "Saving to: ‘unknown/5.jpg’\n",
            "\n",
            "unknown/5.jpg       100%[===================>]  38.83K  --.-KB/s    in 0.002s  \n",
            "\n",
            "2023-07-24 04:52:57 (20.3 MB/s) - ‘unknown/5.jpg’ saved [39757/39757]\n",
            "\n",
            "--2023-07-24 04:52:57--  https://www.ofutebolero.com.br/__export/1686686003073/sites/elfutboleromx/img/2023/06/13/ney.jpg_1879290159.jpg\n",
            "Resolving www.ofutebolero.com.br (www.ofutebolero.com.br)... 18.67.0.38, 18.67.0.114, 18.67.0.96, ...\n",
            "Connecting to www.ofutebolero.com.br (www.ofutebolero.com.br)|18.67.0.38|:443... connected.\n",
            "HTTP request sent, awaiting response... 403 Forbidden\n",
            "2023-07-24 04:52:58 ERROR 403: Forbidden.\n",
            "\n"
          ]
        }
      ]
    },
    {
      "metadata": {
        "id": "YHR7-mDA6vSO",
        "outputId": "b3aeeb26-2aec-401c-af99-f5b858e92e04",
        "colab": {
          "base_uri": "https://localhost:8080/"
        }
      },
      "cell_type": "code",
      "source": [
        "!pip3 install face_recognition #Vamos instalar a biblioteca"
      ],
      "execution_count": 11,
      "outputs": [
        {
          "output_type": "stream",
          "name": "stdout",
          "text": [
            "Requirement already satisfied: face_recognition in /usr/local/lib/python3.10/dist-packages (1.3.0)\n",
            "Requirement already satisfied: face-recognition-models>=0.3.0 in /usr/local/lib/python3.10/dist-packages (from face_recognition) (0.3.0)\n",
            "Requirement already satisfied: Click>=6.0 in /usr/local/lib/python3.10/dist-packages (from face_recognition) (8.1.6)\n",
            "Requirement already satisfied: dlib>=19.7 in /usr/local/lib/python3.10/dist-packages (from face_recognition) (19.24.2)\n",
            "Requirement already satisfied: numpy in /usr/local/lib/python3.10/dist-packages (from face_recognition) (1.22.4)\n",
            "Requirement already satisfied: Pillow in /usr/local/lib/python3.10/dist-packages (from face_recognition) (8.4.0)\n"
          ]
        }
      ]
    },
    {
      "cell_type": "code",
      "source": [
        "import face_recognition   ##Detecting and recogniting faces\n",
        "import cv2     ## OPENCV\n",
        "import os       ## para leitura das imagens\n",
        "from google.colab.patches import cv2_imshow ## para visualizar as imagens processadas\n"
      ],
      "metadata": {
        "id": "gvkNk6RPCepJ",
        "colab": {
          "base_uri": "https://localhost:8080/",
          "height": 380
        },
        "outputId": "042e889a-7c00-4262-e0df-c34b862a5372"
      },
      "execution_count": 12,
      "outputs": [
        {
          "output_type": "error",
          "ename": "RuntimeError",
          "evalue": "ignored",
          "traceback": [
            "\u001b[0;31m---------------------------------------------------------------------------\u001b[0m",
            "\u001b[0;31mRuntimeError\u001b[0m                              Traceback (most recent call last)",
            "\u001b[0;32m<ipython-input-12-1e4af80962c1>\u001b[0m in \u001b[0;36m<cell line: 1>\u001b[0;34m()\u001b[0m\n\u001b[0;32m----> 1\u001b[0;31m \u001b[0;32mimport\u001b[0m \u001b[0mface_recognition\u001b[0m   \u001b[0;31m##Detecting and recogniting faces\u001b[0m\u001b[0;34m\u001b[0m\u001b[0;34m\u001b[0m\u001b[0m\n\u001b[0m\u001b[1;32m      2\u001b[0m \u001b[0;32mimport\u001b[0m \u001b[0mcv2\u001b[0m     \u001b[0;31m## OPENCV\u001b[0m\u001b[0;34m\u001b[0m\u001b[0;34m\u001b[0m\u001b[0m\n\u001b[1;32m      3\u001b[0m \u001b[0;32mimport\u001b[0m \u001b[0mos\u001b[0m       \u001b[0;31m## para leitura das imagens\u001b[0m\u001b[0;34m\u001b[0m\u001b[0;34m\u001b[0m\u001b[0m\n\u001b[1;32m      4\u001b[0m \u001b[0;32mfrom\u001b[0m \u001b[0mgoogle\u001b[0m\u001b[0;34m.\u001b[0m\u001b[0mcolab\u001b[0m\u001b[0;34m.\u001b[0m\u001b[0mpatches\u001b[0m \u001b[0;32mimport\u001b[0m \u001b[0mcv2_imshow\u001b[0m \u001b[0;31m## para visualizar as imagens processadas\u001b[0m\u001b[0;34m\u001b[0m\u001b[0;34m\u001b[0m\u001b[0m\n",
            "\u001b[0;32m/usr/local/lib/python3.10/dist-packages/face_recognition/__init__.py\u001b[0m in \u001b[0;36m<module>\u001b[0;34m\u001b[0m\n\u001b[1;32m      5\u001b[0m \u001b[0m__version__\u001b[0m \u001b[0;34m=\u001b[0m \u001b[0;34m'1.2.3'\u001b[0m\u001b[0;34m\u001b[0m\u001b[0;34m\u001b[0m\u001b[0m\n\u001b[1;32m      6\u001b[0m \u001b[0;34m\u001b[0m\u001b[0m\n\u001b[0;32m----> 7\u001b[0;31m \u001b[0;32mfrom\u001b[0m \u001b[0;34m.\u001b[0m\u001b[0mapi\u001b[0m \u001b[0;32mimport\u001b[0m \u001b[0mload_image_file\u001b[0m\u001b[0;34m,\u001b[0m \u001b[0mface_locations\u001b[0m\u001b[0;34m,\u001b[0m \u001b[0mbatch_face_locations\u001b[0m\u001b[0;34m,\u001b[0m \u001b[0mface_landmarks\u001b[0m\u001b[0;34m,\u001b[0m \u001b[0mface_encodings\u001b[0m\u001b[0;34m,\u001b[0m \u001b[0mcompare_faces\u001b[0m\u001b[0;34m,\u001b[0m \u001b[0mface_distance\u001b[0m\u001b[0;34m\u001b[0m\u001b[0;34m\u001b[0m\u001b[0m\n\u001b[0m",
            "\u001b[0;32m/usr/local/lib/python3.10/dist-packages/face_recognition/api.py\u001b[0m in \u001b[0;36m<module>\u001b[0;34m\u001b[0m\n\u001b[1;32m     24\u001b[0m \u001b[0;34m\u001b[0m\u001b[0m\n\u001b[1;32m     25\u001b[0m \u001b[0mcnn_face_detection_model\u001b[0m \u001b[0;34m=\u001b[0m \u001b[0mface_recognition_models\u001b[0m\u001b[0;34m.\u001b[0m\u001b[0mcnn_face_detector_model_location\u001b[0m\u001b[0;34m(\u001b[0m\u001b[0;34m)\u001b[0m\u001b[0;34m\u001b[0m\u001b[0;34m\u001b[0m\u001b[0m\n\u001b[0;32m---> 26\u001b[0;31m \u001b[0mcnn_face_detector\u001b[0m \u001b[0;34m=\u001b[0m \u001b[0mdlib\u001b[0m\u001b[0;34m.\u001b[0m\u001b[0mcnn_face_detection_model_v1\u001b[0m\u001b[0;34m(\u001b[0m\u001b[0mcnn_face_detection_model\u001b[0m\u001b[0;34m)\u001b[0m\u001b[0;34m\u001b[0m\u001b[0;34m\u001b[0m\u001b[0m\n\u001b[0m\u001b[1;32m     27\u001b[0m \u001b[0;34m\u001b[0m\u001b[0m\n\u001b[1;32m     28\u001b[0m \u001b[0mface_recognition_model\u001b[0m \u001b[0;34m=\u001b[0m \u001b[0mface_recognition_models\u001b[0m\u001b[0;34m.\u001b[0m\u001b[0mface_recognition_model_location\u001b[0m\u001b[0;34m(\u001b[0m\u001b[0;34m)\u001b[0m\u001b[0;34m\u001b[0m\u001b[0;34m\u001b[0m\u001b[0m\n",
            "\u001b[0;31mRuntimeError\u001b[0m: Error while calling cudaGetDevice(&the_device_id) in file /tmp/pip-install-3_32t4z_/dlib_f0267e668087415eae36412e5caf3b94/dlib/cuda/gpu_data.cpp:204. code: 35, reason: CUDA driver version is insufficient for CUDA runtime version"
          ]
        }
      ]
    },
    {
      "cell_type": "markdown",
      "source": [
        "Esta função é usada para pré-processar as imagens, ou seja, para a leitura e rescalonamento das imagens."
      ],
      "metadata": {
        "id": "8vspbkerGap6"
      }
    },
    {
      "cell_type": "code",
      "source": [
        "def read_img(path):\n",
        "   img = cv2.imread(path) ## reading image\n",
        "   (h,w) = img.shape[:2]  ## fetching height and width\n",
        "   width = 500            ## hard coding width\n",
        "   ratio = width / float(w) ## preparing a ration for height\n",
        "   height = int(h * ratio)  ## generating new height\n",
        "   return cv2.resize(img,(width,height)) ##return the reshaped image"
      ],
      "metadata": {
        "id": "gprThvhXEUB5"
      },
      "execution_count": null,
      "outputs": []
    },
    {
      "cell_type": "markdown",
      "source": [
        "Vamos carregar nossa base anotada"
      ],
      "metadata": {
        "id": "F_FnNxDbGl8Y"
      }
    },
    {
      "cell_type": "code",
      "source": [
        "known_encodings = []\n",
        "known_names = []\n",
        "known_dir = 'known' ##Known directory path\n",
        "for file in os.listdir(known_dir):\n",
        "  img = read_img(known_dir + '/' + file) ##Reading all the images\n",
        "  img_enc = face_recognition.face_encodings(img)[0] ##face encodings\n",
        "  known_encodings.append(img_enc)\n",
        "  known_names.append(file.split('.')[0])\n",
        "print(known_names) ## Printing all the known labels"
      ],
      "metadata": {
        "id": "Gom06QADEYyL"
      },
      "execution_count": null,
      "outputs": []
    },
    {
      "cell_type": "markdown",
      "source": [
        "Vamos agora comparar nossa base anotada com o conjunto de testes. A biblioteca face recognition gera vetores de features paras as imagens\n",
        "e estes são comparados utilizando similariadade de cossenos."
      ],
      "metadata": {
        "id": "vGB2GCLWG-0e"
      }
    },
    {
      "cell_type": "code",
      "source": [
        "unknown_dir = 'unknown'\n",
        "for file in os.listdir(unknown_dir):\n",
        " print(\"Processing\",file)\n",
        " img = read_img(unknown_dir + '/' + file)##lendo as imagens\n",
        " img_enc = face_recognition.face_encodings(img)[0]##gerando vetores de features\n",
        " # a comparação é feita contra todos e as distâncias são salvas\n",
        " results = face_recognition.compare_faces(known_encodings,img_enc)\n",
        " ##distância de cossenos\n",
        " print(face_recognition.face_distance(known_encodings,img_enc))\n",
        " ## Printing Face Distances\n",
        " res = [i for i, val in enumerate(results) if val]\n",
        " name = known_names[res[0]]\n",
        "\n",
        " '''\n",
        "Drawing a rectangle box around the faces of unknown images using  face_locations function in library\n",
        "'''\n",
        " (top,right,bottom,left) = face_recognition.face_locations(img)[0]\n",
        " cv2.rectangle(img,(left,top),(right,bottom),(255,255,100),2)\n",
        " ##Drawing Rectangle\n",
        " cv2.putText(img,name,(left+2,bottom+20),cv2.FONT_HERSHEY_COMPLEX ,3, (255,0,0),2) ##Putting labels(names) on the rectangle\n",
        " cv2_imshow(img) ##showing images"
      ],
      "metadata": {
        "id": "ow1xTieaEfMj"
      },
      "execution_count": null,
      "outputs": []
    }
  ]
}